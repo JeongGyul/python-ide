{
  "cells": [
    {
      "cell_type": "code",
      "execution_count": 1,
      "metadata": {
        "colab": {
          "base_uri": "https://localhost:8080/"
        },
        "id": "5p0whPfos3YH",
        "outputId": "f1f417ef-9101-44d1-c1eb-7ddbf54e2fc4"
      },
      "outputs": [
        {
          "output_type": "execute_result",
          "data": {
            "text/plain": [
              "26"
            ]
          },
          "metadata": {},
          "execution_count": 1
        }
      ],
      "source": [
        "ord('z') - ord('a') + 1"
      ]
    },
    {
      "cell_type": "code",
      "execution_count": 2,
      "metadata": {
        "colab": {
          "base_uri": "https://localhost:8080/"
        },
        "id": "wRRgxELps3YM",
        "outputId": "eff9d4be-9d43-4226-e183-0884765b366b"
      },
      "outputs": [
        {
          "output_type": "execute_result",
          "data": {
            "text/plain": [
              "13"
            ]
          },
          "metadata": {},
          "execution_count": 2
        }
      ],
      "source": [
        "ord('N') - ord('A')"
      ]
    },
    {
      "cell_type": "code",
      "execution_count": 3,
      "metadata": {
        "colab": {
          "base_uri": "https://localhost:8080/"
        },
        "id": "SRvTxkr6s3YM",
        "outputId": "0e8cf698-0191-49d5-946f-99ff4249e78b"
      },
      "outputs": [
        {
          "output_type": "execute_result",
          "data": {
            "text/plain": [
              "{'A': 'N',\n",
              " 'B': 'O',\n",
              " 'C': 'P',\n",
              " 'D': 'Q',\n",
              " 'E': 'R',\n",
              " 'F': 'S',\n",
              " 'G': 'T',\n",
              " 'H': 'U',\n",
              " 'I': 'V',\n",
              " 'J': 'W',\n",
              " 'K': 'X',\n",
              " 'L': 'Y',\n",
              " 'M': 'Z',\n",
              " 'N': 'A',\n",
              " 'O': 'B',\n",
              " 'P': 'C',\n",
              " 'Q': 'D',\n",
              " 'R': 'E',\n",
              " 'S': 'F',\n",
              " 'T': 'G',\n",
              " 'U': 'H',\n",
              " 'V': 'I',\n",
              " 'W': 'J',\n",
              " 'X': 'K',\n",
              " 'Y': 'L',\n",
              " 'Z': 'M',\n",
              " 'a': 'n',\n",
              " 'b': 'o',\n",
              " 'c': 'p',\n",
              " 'd': 'q',\n",
              " 'e': 'r',\n",
              " 'f': 's',\n",
              " 'g': 't',\n",
              " 'h': 'u',\n",
              " 'i': 'v',\n",
              " 'j': 'w',\n",
              " 'k': 'x',\n",
              " 'l': 'y',\n",
              " 'm': 'z',\n",
              " 'n': 'a',\n",
              " 'o': 'b',\n",
              " 'p': 'c',\n",
              " 'q': 'd',\n",
              " 'r': 'e',\n",
              " 's': 'f',\n",
              " 't': 'g',\n",
              " 'u': 'h',\n",
              " 'v': 'i',\n",
              " 'w': 'j',\n",
              " 'x': 'k',\n",
              " 'y': 'l',\n",
              " 'z': 'm'}"
            ]
          },
          "metadata": {},
          "execution_count": 3
        }
      ],
      "source": [
        "s = \"\"\"Gur Mra bs Clguba, ol Gvz Crgref\"\"\"\n",
        "\n",
        "d = {}\n",
        "for c in (65, 97):\n",
        "    for i in range(26):\n",
        "        d[chr(i+c)] = chr((i+13) % 26 + c)\n",
        "d"
      ]
    },
    {
      "cell_type": "code",
      "execution_count": 4,
      "metadata": {
        "colab": {
          "base_uri": "https://localhost:8080/"
        },
        "id": "xY9K_JmWs3YN",
        "outputId": "5147d5ec-44c6-4a06-f459-4b912be8ab9e"
      },
      "outputs": [
        {
          "output_type": "stream",
          "name": "stdout",
          "text": [
            "The Zen of Python, by Tim Peters\n"
          ]
        }
      ],
      "source": [
        "print(\"\".join([d.get(c, c) for c in s]))"
      ]
    },
    {
      "cell_type": "code",
      "execution_count": 5,
      "metadata": {
        "colab": {
          "base_uri": "https://localhost:8080/"
        },
        "id": "jFJ6jXhWs3YN",
        "outputId": "f1b63a67-4907-4450-8436-553031dffa2f"
      },
      "outputs": [
        {
          "output_type": "execute_result",
          "data": {
            "text/plain": [
              "2"
            ]
          },
          "metadata": {},
          "execution_count": 5
        }
      ],
      "source": [
        "s = '한국, 미국'\n",
        "s.find(',')"
      ]
    },
    {
      "cell_type": "code",
      "execution_count": 6,
      "metadata": {
        "colab": {
          "base_uri": "https://localhost:8080/"
        },
        "id": "olb_GsX2s3YO",
        "outputId": "64db6c1c-7fe2-4951-f4e7-51da44d9e24d"
      },
      "outputs": [
        {
          "output_type": "execute_result",
          "data": {
            "text/plain": [
              "['한국', ' 미국']"
            ]
          },
          "metadata": {},
          "execution_count": 6
        }
      ],
      "source": [
        "s.split(',')"
      ]
    },
    {
      "cell_type": "code",
      "execution_count": 7,
      "metadata": {
        "colab": {
          "base_uri": "https://localhost:8080/",
          "height": 35
        },
        "id": "qUNVuksQs3YO",
        "outputId": "ff057209-beb6-46d5-ec27-723d8688e398"
      },
      "outputs": [
        {
          "output_type": "execute_result",
          "data": {
            "text/plain": [
              "'p,y,t,h,o,n'"
            ],
            "application/vnd.google.colaboratory.intrinsic+json": {
              "type": "string"
            }
          },
          "metadata": {},
          "execution_count": 7
        }
      ],
      "source": [
        "','.join('python')"
      ]
    },
    {
      "cell_type": "code",
      "execution_count": null,
      "metadata": {
        "id": "sjWwezKXs3YO"
      },
      "outputs": [],
      "source": [
        ""
      ]
    }
  ],
  "metadata": {
    "kernelspec": {
      "display_name": "Python 3",
      "language": "python",
      "name": "python3"
    },
    "language_info": {
      "codemirror_mode": {
        "name": "ipython",
        "version": 3
      },
      "file_extension": ".py",
      "mimetype": "text/x-python",
      "name": "python",
      "nbconvert_exporter": "python",
      "pygments_lexer": "ipython3",
      "version": "3.8.5"
    },
    "colab": {
      "name": "Untitled.ipynb",
      "provenance": []
    }
  },
  "nbformat": 4,
  "nbformat_minor": 0
}