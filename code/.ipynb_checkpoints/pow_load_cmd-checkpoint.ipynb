{
 "cells": [
  {
   "cell_type": "code",
   "execution_count": 2,
   "id": "902c81e5",
   "metadata": {},
   "outputs": [
    {
     "name": "stdout",
     "output_type": "stream",
     "text": [
      "The Zen of Python, by Tim Peters\n",
      "\n",
      "Beautiful is better than ugly.\n",
      "Explicit is better than implicit.\n",
      "Simple is better than complex.\n",
      "Complex is better than complicated.\n",
      "Flat is better than nested.\n",
      "Sparse is better than dense.\n",
      "Readability counts.\n",
      "Special cases aren't special enough to break the rules.\n",
      "Although practicality beats purity.\n",
      "Errors should never pass silently.\n",
      "Unless explicitly silenced.\n",
      "In the face of ambiguity, refuse the temptation to guess.\n",
      "There should be one-- and preferably only one --obvious way to do it.\n",
      "Although that way may not be obvious at first unless you're Dutch.\n",
      "Now is better than never.\n",
      "Although never is often better than *right* now.\n",
      "If the implementation is hard to explain, it's a bad idea.\n",
      "If the implementation is easy to explain, it may be a good idea.\n",
      "Namespaces are one honking great idea -- let's do more of those!\n"
     ]
    }
   ],
   "source": [
    "import this"
   ]
  },
  {
   "cell_type": "code",
   "execution_count": 5,
   "id": "be05ec0b",
   "metadata": {},
   "outputs": [
    {
     "name": "stdout",
     "output_type": "stream",
     "text": [
      " D 드라이브의 볼륨: DATADRIVE0\n",
      " 볼륨 일련 번호: 0AEE-91E2\n",
      "\n",
      " D:\\(1 Drive)\\m365\\OneDrive - 동양미래대학\\53. 단기특강\\[2022 단기프로그램 2022.08.08(월)~08.11(목)] 파이썬을 위한 다양한 개발환경\\python-ide\\code 디렉터리\n",
      "\n",
      "2022-08-07  오전 11:56    <DIR>          .\n",
      "2022-08-07  오전 11:56    <DIR>          ..\n",
      "2022-08-07  오전 11:56    <DIR>          .ipynb_checkpoints\n",
      "2022-08-07  오전 10:27    <DIR>          all numpy pandas matplotlib bokeh\n",
      "2022-08-07  오전 10:27    <DIR>          bokeh\n",
      "2022-07-09  오전 11:05             6,596 charencoding.ipynb\n",
      "2021-05-18  오전 10:01            20,975 comprehention.ipynb\n",
      "2021-05-01  오후 05:36             4,748 data_sci_ex.ipynb\n",
      "2021-05-18  오후 12:03             7,497 deep copy.ipynb\n",
      "2021-04-29  오후 02:42             3,497 dict_ex.ipynb\n",
      "2021-04-30  오전 11:31             3,846 first_notebook.ipynb\n",
      "2022-08-07  오전 10:27    <DIR>          jupyter exercise\n",
      "2022-08-07  오전 10:27    <DIR>          matplotlib\n",
      "2021-04-30  오후 12:39             8,529 myfirst_notebook.ipynb\n",
      "2021-05-01  오후 04:43             5,846 my_jupyter.ipynb\n",
      "2022-07-20  오전 11:10           138,922 my_py.ipynb\n",
      "2021-05-18  오전 11:35             3,942 my_random.ipynb\n",
      "2021-05-18  오후 04:17            15,062 my_this_join.ipynb\n",
      "2022-08-07  오전 10:27    <DIR>          numpy\n",
      "2022-08-07  오전 10:27    <DIR>          numpy pandas matplotlib\n",
      "2022-08-07  오전 10:27    <DIR>          pandas\n",
      "2022-08-07  오전 11:55                72 pow_load_cmd.ipynb\n",
      "2021-05-01  오후 05:37            12,048 realpython_string.ipynb\n",
      "2021-05-18  오후 03:01             4,108 Untitled.ipynb\n",
      "              14개 파일             235,688 바이트\n",
      "              10개 디렉터리  1,305,322,024,960 바이트 남음\n"
     ]
    }
   ],
   "source": [
    "!dir"
   ]
  },
  {
   "cell_type": "code",
   "execution_count": 7,
   "id": "4a6d6add",
   "metadata": {},
   "outputs": [
    {
     "name": "stdout",
     "output_type": "stream",
     "text": [
      "Writing dic_intem.py\n"
     ]
    }
   ],
   "source": [
    "%%writefile dic_intem.py\n",
    "d = [[j for j in range(i)] for i in range(5)]\n",
    "print(d)"
   ]
  },
  {
   "cell_type": "code",
   "execution_count": 8,
   "id": "66e93bf8",
   "metadata": {},
   "outputs": [
    {
     "name": "stdout",
     "output_type": "stream",
     "text": [
      "d = [[j for j in range(i)] for i in range(5)]\n",
      "print(d)\n"
     ]
    }
   ],
   "source": [
    "!type dic_intem.py"
   ]
  },
  {
   "cell_type": "code",
   "execution_count": null,
   "id": "3a6813ba",
   "metadata": {},
   "outputs": [],
   "source": [
    "# %load dic_intem.py\n",
    "d = [[j for j in range(i)] for i in range(5)]\n",
    "print(d)\n"
   ]
  },
  {
   "cell_type": "code",
   "execution_count": null,
   "id": "13e1ed75",
   "metadata": {},
   "outputs": [],
   "source": [
    "# %load dic_intem.py\n",
    "d = [[j for j in range(i)] for i in range(5)]\n",
    "print(d)\n"
   ]
  },
  {
   "cell_type": "code",
   "execution_count": 12,
   "id": "cfedcc47",
   "metadata": {},
   "outputs": [],
   "source": [
    "import this"
   ]
  },
  {
   "cell_type": "code",
   "execution_count": 13,
   "id": "51832bf0",
   "metadata": {},
   "outputs": [],
   "source": [
    "import importlib as ilb"
   ]
  },
  {
   "cell_type": "code",
   "execution_count": 15,
   "id": "4a62d460",
   "metadata": {},
   "outputs": [
    {
     "name": "stdout",
     "output_type": "stream",
     "text": [
      "The Zen of Python, by Tim Peters\n",
      "\n",
      "Beautiful is better than ugly.\n",
      "Explicit is better than implicit.\n",
      "Simple is better than complex.\n",
      "Complex is better than complicated.\n",
      "Flat is better than nested.\n",
      "Sparse is better than dense.\n",
      "Readability counts.\n",
      "Special cases aren't special enough to break the rules.\n",
      "Although practicality beats purity.\n",
      "Errors should never pass silently.\n",
      "Unless explicitly silenced.\n",
      "In the face of ambiguity, refuse the temptation to guess.\n",
      "There should be one-- and preferably only one --obvious way to do it.\n",
      "Although that way may not be obvious at first unless you're Dutch.\n",
      "Now is better than never.\n",
      "Although never is often better than *right* now.\n",
      "If the implementation is hard to explain, it's a bad idea.\n",
      "If the implementation is easy to explain, it may be a good idea.\n",
      "Namespaces are one honking great idea -- let's do more of those!\n"
     ]
    },
    {
     "data": {
      "text/plain": [
       "<module 'this' from 'D:\\\\Anaconda3\\\\lib\\\\this.py'>"
      ]
     },
     "execution_count": 15,
     "metadata": {},
     "output_type": "execute_result"
    }
   ],
   "source": [
    "ilb.reload(this)"
   ]
  },
  {
   "cell_type": "code",
   "execution_count": null,
   "id": "03f79a87",
   "metadata": {},
   "outputs": [],
   "source": []
  }
 ],
 "metadata": {
  "kernelspec": {
   "display_name": "Python 3 (ipykernel)",
   "language": "python",
   "name": "python3"
  },
  "language_info": {
   "codemirror_mode": {
    "name": "ipython",
    "version": 3
   },
   "file_extension": ".py",
   "mimetype": "text/x-python",
   "name": "python",
   "nbconvert_exporter": "python",
   "pygments_lexer": "ipython3",
   "version": "3.9.12"
  }
 },
 "nbformat": 4,
 "nbformat_minor": 5
}
