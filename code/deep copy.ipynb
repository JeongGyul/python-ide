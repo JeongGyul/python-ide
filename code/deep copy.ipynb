{
 "cells": [
  {
   "cell_type": "code",
   "execution_count": 2,
   "metadata": {},
   "outputs": [
    {
     "data": {
      "text/plain": [
       "[0, 1, 2, 3, 4, 5, 6, 7, 8, 9]"
      ]
     },
     "execution_count": 2,
     "metadata": {},
     "output_type": "execute_result"
    }
   ],
   "source": [
    "a = list(range(10))\n",
    "a"
   ]
  },
  {
   "cell_type": "code",
   "execution_count": 3,
   "metadata": {},
   "outputs": [],
   "source": [
    "x = a"
   ]
  },
  {
   "cell_type": "code",
   "execution_count": 4,
   "metadata": {},
   "outputs": [
    {
     "data": {
      "text/plain": [
       "[0, 1, 2, 3, 4, 5, 6, 7, 8, 9, 10]"
      ]
     },
     "execution_count": 4,
     "metadata": {},
     "output_type": "execute_result"
    }
   ],
   "source": [
    "a.append(10)\n",
    "a"
   ]
  },
  {
   "cell_type": "code",
   "execution_count": 5,
   "metadata": {},
   "outputs": [
    {
     "data": {
      "text/plain": [
       "[0, 1, 2, 3, 4, 5, 6, 7, 8, 9, 10]"
      ]
     },
     "execution_count": 5,
     "metadata": {},
     "output_type": "execute_result"
    }
   ],
   "source": [
    "x"
   ]
  },
  {
   "cell_type": "code",
   "execution_count": 6,
   "metadata": {},
   "outputs": [
    {
     "data": {
      "text/plain": [
       "True"
      ]
     },
     "execution_count": 6,
     "metadata": {},
     "output_type": "execute_result"
    }
   ],
   "source": [
    "a is x"
   ]
  },
  {
   "cell_type": "code",
   "execution_count": 7,
   "metadata": {},
   "outputs": [
    {
     "data": {
      "text/plain": [
       "True"
      ]
     },
     "execution_count": 7,
     "metadata": {},
     "output_type": "execute_result"
    }
   ],
   "source": [
    "id(a) == id(x)"
   ]
  },
  {
   "cell_type": "code",
   "execution_count": 8,
   "metadata": {},
   "outputs": [],
   "source": [
    "y = a.copy()"
   ]
  },
  {
   "cell_type": "code",
   "execution_count": 9,
   "metadata": {},
   "outputs": [
    {
     "data": {
      "text/plain": [
       "[0, 1, 2, 3, 4, 5, 6, 7, 8, 9, 10, 100]"
      ]
     },
     "execution_count": 9,
     "metadata": {},
     "output_type": "execute_result"
    }
   ],
   "source": [
    "a.append(100)\n",
    "a"
   ]
  },
  {
   "cell_type": "code",
   "execution_count": 10,
   "metadata": {},
   "outputs": [
    {
     "data": {
      "text/plain": [
       "[0, 1, 2, 3, 4, 5, 6, 7, 8, 9, 10]"
      ]
     },
     "execution_count": 10,
     "metadata": {},
     "output_type": "execute_result"
    }
   ],
   "source": [
    "y"
   ]
  },
  {
   "cell_type": "code",
   "execution_count": null,
   "metadata": {},
   "outputs": [],
   "source": []
  },
  {
   "cell_type": "code",
   "execution_count": 12,
   "metadata": {},
   "outputs": [
    {
     "name": "stdout",
     "output_type": "stream",
     "text": [
      "[6, 4, 5, 2, 1, 7, 3]\n",
      "[7, 4, 1, 6, 5, 2, 3]\n",
      "[1, 7, 2, 5, 4, 6, 3]\n",
      "[6, 4, 7, 5, 3, 2, 1]\n",
      "[5, 6, 2, 3, 4, 7, 1]\n",
      "\n"
     ]
    },
    {
     "data": {
      "text/plain": [
       "[[5, 6, 2, 3, 4, 7, 1],\n",
       " [5, 6, 2, 3, 4, 7, 1],\n",
       " [5, 6, 2, 3, 4, 7, 1],\n",
       " [5, 6, 2, 3, 4, 7, 1],\n",
       " [5, 6, 2, 3, 4, 7, 1]]"
      ]
     },
     "execution_count": 12,
     "metadata": {},
     "output_type": "execute_result"
    }
   ],
   "source": [
    "import random\n",
    "\n",
    "items = [1, 2, 3, 4, 5, 6, 7]\n",
    "def myshuffle2(lst):\n",
    "    random.shuffle(lst)\n",
    "    print(lst)\n",
    "    return lst\n",
    "\n",
    "my = [myshuffle2(items) for _ in range(5)]\n",
    "print()\n",
    "my\n"
   ]
  },
  {
   "cell_type": "code",
   "execution_count": 13,
   "metadata": {},
   "outputs": [
    {
     "data": {
      "text/plain": [
       "[[5, 6, 2, 3, 4, 7, 1],\n",
       " [5, 6, 2, 3, 4, 7, 1],\n",
       " [5, 6, 2, 3, 4, 7, 1],\n",
       " [5, 6, 2, 3, 4, 7, 1],\n",
       " [5, 6, 2, 3, 4, 7, 1]]"
      ]
     },
     "execution_count": 13,
     "metadata": {},
     "output_type": "execute_result"
    }
   ],
   "source": [
    "my"
   ]
  },
  {
   "cell_type": "code",
   "execution_count": null,
   "metadata": {},
   "outputs": [],
   "source": [
    "import random\n",
    "items = [1, 2, 3, 4, 5, 6, 7]\n",
    "# 내부적으로 새로운 값으로 복사해 반환\n",
    "def myshuffle3(lst):\n",
    "    random.shuffle(lst)\n",
    "    print(lst)\n",
    "    return lst.copy()\n",
    "\n",
    "my = [myshuffle3(items) for _ in range(5)]\n",
    "print()\n",
    "my\n"
   ]
  },
  {
   "cell_type": "code",
   "execution_count": 14,
   "metadata": {},
   "outputs": [
    {
     "name": "stdout",
     "output_type": "stream",
     "text": [
      "[1, 7, 4, 3, 2, 5, 6]\n",
      "[1, 2, 3, 5, 7, 4, 6]\n",
      "[6, 1, 3, 5, 4, 2, 7]\n",
      "[4, 7, 3, 1, 6, 5, 2]\n",
      "[6, 1, 5, 7, 4, 3, 2]\n",
      "[[6, 1, 5, 7, 4, 3, 2, '10'], [6, 1, 5, 7, 4, 3, 2, '10'], [6, 1, 5, 7, 4, 3, 2, '10'], [6, 1, 5, 7, 4, 3, 2, '10'], [6, 1, 5, 7, 4, 3, 2, '10']]\n"
     ]
    }
   ],
   "source": [
    "import random\n",
    "\n",
    "items = [1, 2, 3, 4, 5, 6, 7]\n",
    "\n",
    "# 내부적으로 새로운 값으로 복사해 반환\n",
    "def myshuffle3(lst):\n",
    "    random.shuffle(lst)\n",
    "    print(lst)\n",
    "    return lst\n",
    "    \n",
    "my = [myshuffle3(items) for _ in range(5)]\n",
    "\n",
    "items.append('10')\n",
    "print(my)"
   ]
  },
  {
   "cell_type": "code",
   "execution_count": 16,
   "metadata": {},
   "outputs": [
    {
     "name": "stdout",
     "output_type": "stream",
     "text": [
      " C 드라이브의 볼륨에는 이름이 없습니다.\n",
      " 볼륨 일련 번호: BA15-7EF4\n",
      "\n",
      " C:\\[Kang]\\OneDrive - 동양미래대학\\[20~21 이공계 사업]\\0. 2021 파이썬 개발환경과 가상환경\\code 디렉터리\n",
      "\n",
      "2021-05-18  오전 11:57    <DIR>          .\n",
      "2021-05-18  오전 11:57    <DIR>          ..\n",
      "2021-05-18  오전 11:25    <DIR>          .ipynb_checkpoints\n",
      "2021-05-18  오전 10:01            20,975 comprehention.ipynb\n",
      "2021-05-01  오후 05:36           (4,748) data_sci_ex.ipynb\n",
      "2021-05-18  오전 11:57             5,487 deep copy.ipynb\n",
      "2021-04-29  오후 02:42           (3,497) dict_ex.ipynb\n",
      "2021-04-30  오전 11:31           (3,846) first_notebook.ipynb\n",
      "2021-04-30  오후 12:39           (8,529) myfirst_notebook.ipynb\n",
      "2021-05-01  오후 04:43           (5,846) my_jupyter.ipynb\n",
      "2021-05-18  오전 11:35             3,942 my_random.ipynb\n",
      "2021-05-01  오후 05:37          (12,048) realpython_string.ipynb\n",
      "               9개 파일              68,918 바이트\n",
      "               3개 디렉터리  155,590,193,152 바이트 남음\n"
     ]
    }
   ],
   "source": [
    "!dir"
   ]
  },
  {
   "cell_type": "code",
   "execution_count": null,
   "metadata": {},
   "outputs": [],
   "source": []
  }
 ],
 "metadata": {
  "kernelspec": {
   "display_name": "Python 3",
   "language": "python",
   "name": "python3"
  },
  "language_info": {
   "codemirror_mode": {
    "name": "ipython",
    "version": 3
   },
   "file_extension": ".py",
   "mimetype": "text/x-python",
   "name": "python",
   "nbconvert_exporter": "python",
   "pygments_lexer": "ipython3",
   "version": "3.8.5"
  }
 },
 "nbformat": 4,
 "nbformat_minor": 4
}
